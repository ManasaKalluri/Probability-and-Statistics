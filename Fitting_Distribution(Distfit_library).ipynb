{
 "cells": [
  {
   "cell_type": "code",
   "execution_count": 25,
   "metadata": {},
   "outputs": [],
   "source": [
    "import numpy as np\n",
    "import pandas as pd\n",
    "import seaborn as sns\n",
    "import matplotlib.pyplot as plt"
   ]
  },
  {
   "cell_type": "code",
   "execution_count": 5,
   "metadata": {},
   "outputs": [],
   "source": [
    "from distfit import distfit"
   ]
  },
  {
   "cell_type": "code",
   "execution_count": 6,
   "metadata": {},
   "outputs": [],
   "source": [
    "dist=distfit()"
   ]
  },
  {
   "cell_type": "code",
   "execution_count": 8,
   "metadata": {},
   "outputs": [],
   "source": [
    "dataset=pd.read_csv(r'C:\\Users\\Praneeth Kalluri\\Desktop\\Extractedpoints_New.csv')"
   ]
  },
  {
   "cell_type": "code",
   "execution_count": 9,
   "metadata": {},
   "outputs": [
    {
     "data": {
      "text/html": [
       "<div>\n",
       "<style scoped>\n",
       "    .dataframe tbody tr th:only-of-type {\n",
       "        vertical-align: middle;\n",
       "    }\n",
       "\n",
       "    .dataframe tbody tr th {\n",
       "        vertical-align: top;\n",
       "    }\n",
       "\n",
       "    .dataframe thead th {\n",
       "        text-align: right;\n",
       "    }\n",
       "</style>\n",
       "<table border=\"1\" class=\"dataframe\">\n",
       "  <thead>\n",
       "    <tr style=\"text-align: right;\">\n",
       "      <th></th>\n",
       "      <th>date and time</th>\n",
       "      <th>hsig wave height (ft)</th>\n",
       "      <th>peak wave period (s)</th>\n",
       "      <th>mean wave period T_{m01} (s)</th>\n",
       "      <th>angle of hsig wave vector (mean direction) (deg)</th>\n",
       "      <th>Unnamed: 5</th>\n",
       "      <th>Unnamed: 6</th>\n",
       "      <th>Unnamed: 7</th>\n",
       "      <th>Unnamed: 8</th>\n",
       "      <th>Unnamed: 9</th>\n",
       "    </tr>\n",
       "  </thead>\n",
       "  <tbody>\n",
       "    <tr>\n",
       "      <th>0</th>\n",
       "      <td>13-01-1983 09:00</td>\n",
       "      <td>1.67126</td>\n",
       "      <td>6.72757</td>\n",
       "      <td>5.613</td>\n",
       "      <td>171.93</td>\n",
       "      <td>NaN</td>\n",
       "      <td>NaN</td>\n",
       "      <td>NaN</td>\n",
       "      <td>NaN</td>\n",
       "      <td>NaN</td>\n",
       "    </tr>\n",
       "    <tr>\n",
       "      <th>1</th>\n",
       "      <td>17-01-1983 03:00</td>\n",
       "      <td>1.98425</td>\n",
       "      <td>6.28890</td>\n",
       "      <td>5.247</td>\n",
       "      <td>171.95</td>\n",
       "      <td>NaN</td>\n",
       "      <td>GEV</td>\n",
       "      <td>Inverse CDF</td>\n",
       "      <td>wave ht(ft)</td>\n",
       "      <td>Peak period</td>\n",
       "    </tr>\n",
       "    <tr>\n",
       "      <th>2</th>\n",
       "      <td>25-01-1983 06:00</td>\n",
       "      <td>2.15354</td>\n",
       "      <td>6.35242</td>\n",
       "      <td>5.300</td>\n",
       "      <td>170.94</td>\n",
       "      <td>NaN</td>\n",
       "      <td>50 year return period</td>\n",
       "      <td>0.997078652</td>\n",
       "      <td>4.5811</td>\n",
       "      <td>10.8291</td>\n",
       "    </tr>\n",
       "    <tr>\n",
       "      <th>3</th>\n",
       "      <td>16-01-1983 21:00</td>\n",
       "      <td>2.22343</td>\n",
       "      <td>6.31646</td>\n",
       "      <td>5.270</td>\n",
       "      <td>171.27</td>\n",
       "      <td>NaN</td>\n",
       "      <td>25 year return period</td>\n",
       "      <td>0.994157303</td>\n",
       "      <td>4.4772</td>\n",
       "      <td>10.8291</td>\n",
       "    </tr>\n",
       "    <tr>\n",
       "      <th>4</th>\n",
       "      <td>25-01-1983 09:00</td>\n",
       "      <td>2.33104</td>\n",
       "      <td>5.97128</td>\n",
       "      <td>4.982</td>\n",
       "      <td>171.12</td>\n",
       "      <td>NaN</td>\n",
       "      <td>10 year return period</td>\n",
       "      <td>0.985393258</td>\n",
       "      <td>4.3203</td>\n",
       "      <td>10.8291</td>\n",
       "    </tr>\n",
       "  </tbody>\n",
       "</table>\n",
       "</div>"
      ],
      "text/plain": [
       "      date and time  hsig wave height (ft)  peak wave period (s)  \\\n",
       "0  13-01-1983 09:00                1.67126               6.72757   \n",
       "1  17-01-1983 03:00                1.98425               6.28890   \n",
       "2  25-01-1983 06:00                2.15354               6.35242   \n",
       "3  16-01-1983 21:00                2.22343               6.31646   \n",
       "4  25-01-1983 09:00                2.33104               5.97128   \n",
       "\n",
       "   mean wave period T_{m01} (s)  \\\n",
       "0                         5.613   \n",
       "1                         5.247   \n",
       "2                         5.300   \n",
       "3                         5.270   \n",
       "4                         4.982   \n",
       "\n",
       "   angle of hsig wave vector (mean direction) (deg)  Unnamed: 5  \\\n",
       "0                                            171.93         NaN   \n",
       "1                                            171.95         NaN   \n",
       "2                                            170.94         NaN   \n",
       "3                                            171.27         NaN   \n",
       "4                                            171.12         NaN   \n",
       "\n",
       "              Unnamed: 6    Unnamed: 7   Unnamed: 8   Unnamed: 9  \n",
       "0                    NaN           NaN          NaN          NaN  \n",
       "1                    GEV  Inverse CDF   wave ht(ft)  Peak period  \n",
       "2  50 year return period   0.997078652       4.5811      10.8291  \n",
       "3  25 year return period   0.994157303       4.4772      10.8291  \n",
       "4  10 year return period   0.985393258       4.3203      10.8291  "
      ]
     },
     "execution_count": 9,
     "metadata": {},
     "output_type": "execute_result"
    }
   ],
   "source": [
    "dataset.head()"
   ]
  },
  {
   "cell_type": "code",
   "execution_count": 15,
   "metadata": {},
   "outputs": [
    {
     "data": {
      "text/plain": [
       "(267, 10)"
      ]
     },
     "execution_count": 15,
     "metadata": {},
     "output_type": "execute_result"
    }
   ],
   "source": [
    "dataset.shape"
   ]
  },
  {
   "cell_type": "code",
   "execution_count": 20,
   "metadata": {},
   "outputs": [
    {
     "name": "stdout",
     "output_type": "stream",
     "text": [
      "<class 'pandas.core.frame.DataFrame'>\n",
      "RangeIndex: 267 entries, 0 to 266\n",
      "Data columns (total 10 columns):\n",
      " #   Column                                            Non-Null Count  Dtype  \n",
      "---  ------                                            --------------  -----  \n",
      " 0   date and time                                     267 non-null    object \n",
      " 1   hsig wave height (ft)                             267 non-null    float64\n",
      " 2   peak wave period (s)                              267 non-null    float64\n",
      " 3   mean wave period T_{m01} (s)                      267 non-null    float64\n",
      " 4   angle of hsig wave vector (mean direction) (deg)  267 non-null    float64\n",
      " 5   Unnamed: 5                                        0 non-null      float64\n",
      " 6   Unnamed: 6                                        7 non-null      object \n",
      " 7   Unnamed: 7                                        6 non-null      object \n",
      " 8   Unnamed: 8                                        6 non-null      object \n",
      " 9   Unnamed: 9                                        6 non-null      object \n",
      "dtypes: float64(5), object(5)\n",
      "memory usage: 21.0+ KB\n"
     ]
    }
   ],
   "source": [
    "dataset.info()"
   ]
  },
  {
   "cell_type": "markdown",
   "metadata": {},
   "source": [
    "Column of interest \"hsig wave height\" has no missing values. "
   ]
  },
  {
   "cell_type": "code",
   "execution_count": 10,
   "metadata": {},
   "outputs": [],
   "source": [
    "data=dataset['hsig wave height (ft)']"
   ]
  },
  {
   "cell_type": "code",
   "execution_count": 11,
   "metadata": {},
   "outputs": [
    {
     "data": {
      "text/plain": [
       "(267,)"
      ]
     },
     "execution_count": 11,
     "metadata": {},
     "output_type": "execute_result"
    }
   ],
   "source": [
    "data.shape"
   ]
  },
  {
   "cell_type": "code",
   "execution_count": 13,
   "metadata": {},
   "outputs": [
    {
     "data": {
      "text/plain": [
       "0    1.67126\n",
       "1    1.98425\n",
       "2    2.15354\n",
       "3    2.22343\n",
       "4    2.33104\n",
       "Name: hsig wave height (ft), dtype: float64"
      ]
     },
     "execution_count": 13,
     "metadata": {},
     "output_type": "execute_result"
    }
   ],
   "source": [
    "data.head()"
   ]
  },
  {
   "cell_type": "code",
   "execution_count": 16,
   "metadata": {},
   "outputs": [
    {
     "data": {
      "text/plain": [
       "count    267.000000\n",
       "mean       3.371912\n",
       "std        0.435918\n",
       "min        1.671260\n",
       "25%        3.156170\n",
       "50%        3.326770\n",
       "75%        3.589240\n",
       "max        6.361550\n",
       "Name: hsig wave height (ft), dtype: float64"
      ]
     },
     "execution_count": 16,
     "metadata": {},
     "output_type": "execute_result"
    }
   ],
   "source": [
    "data.describe()"
   ]
  },
  {
   "cell_type": "code",
   "execution_count": 21,
   "metadata": {},
   "outputs": [
    {
     "name": "stdout",
     "output_type": "stream",
     "text": [
      "[distfit] >fit..\n",
      "[distfit] >transform..\n",
      "[distfit] >[norm      ] [0.01 sec] [RSS: 1.1700517] [loc=3.372 scale=0.435]\n",
      "[distfit] >[expon     ] [0.01 sec] [RSS: 7.7938729] [loc=1.671 scale=1.701]\n",
      "[distfit] >[pareto    ] [0.03 sec] [RSS: 9.2435128] [loc=0.014 scale=1.658]\n",
      "[distfit] >[dweibull  ] [0.05 sec] [RSS: 0.6720015] [loc=3.341 scale=0.305]\n",
      "[distfit] >[t         ] [0.03 sec] [RSS: 0.6184867] [loc=3.348 scale=0.279]\n",
      "[distfit] >[genextreme] [0.06 sec] [RSS: 1.4795804] [loc=3.191 scale=0.444]\n",
      "[distfit] >[gamma     ] [0.07 sec] [RSS: 1.0675955] [loc=-1.212 scale=0.040]\n",
      "[distfit] >[lognorm   ] [0.03 sec] [RSS: 1.0483085] [loc=-2.480 scale=5.837]\n",
      "[distfit] >[beta      ] [0.20 sec] [RSS: 1.0697655] [loc=-1.062 scale=425213.613]\n",
      "[distfit] >[uniform   ] [0.00 sec] [RSS: 7.1594955] [loc=1.671 scale=4.690]\n",
      "[distfit] >[loggamma  ] [0.05 sec] [RSS: 1.2727449] [loc=-117.438 scale=16.700]\n",
      "[distfit] >Compute confidence interval [parametric]\n"
     ]
    },
    {
     "data": {
      "text/plain": [
       "{'model': {'distr': <scipy.stats._continuous_distns.t_gen at 0x2aa65d82c10>,\n",
       "  'stats': 'RSS',\n",
       "  'params': (3.314297657580009, 3.348062362669703, 0.2786668819537659),\n",
       "  'name': 't',\n",
       "  'model': <scipy.stats._distn_infrastructure.rv_frozen at 0x2aa66210b20>,\n",
       "  'score': 0.6184867004315883,\n",
       "  'loc': 3.348062362669703,\n",
       "  'scale': 0.2786668819537659,\n",
       "  'arg': (3.314297657580009,),\n",
       "  'CII_min_alpha': 2.7168509704008788,\n",
       "  'CII_max_alpha': 3.979273754938527},\n",
       " 'summary':          distr     score  LLE         loc          scale  \\\n",
       " 0            t  0.618487  NaN    3.348062       0.278667   \n",
       " 1     dweibull  0.672001  NaN    3.341027       0.304993   \n",
       " 2      lognorm  1.048309  NaN   -2.480375       5.836561   \n",
       " 3        gamma  1.067596  NaN   -1.212169       0.040205   \n",
       " 4         beta  1.069766  NaN   -1.061634  425213.612949   \n",
       " 5         norm  1.170052  NaN    3.371912       0.435101   \n",
       " 6     loggamma  1.272745  NaN -117.438461      16.700276   \n",
       " 7   genextreme  1.479580  NaN    3.191218       0.444018   \n",
       " 8      uniform  7.159496  NaN    1.671260       4.690290   \n",
       " 9        expon  7.793873  NaN    1.671260       1.700652   \n",
       " 10      pareto  9.243513  NaN    0.013565       1.657695   \n",
       " \n",
       "                                          arg  \n",
       " 0                       (3.314297657580009,)  \n",
       " 1                       (1.063052143569637,)  \n",
       " 2                     (0.07313063888869098,)  \n",
       " 3                      (114.01885341075251,)  \n",
       " 4   (106.37039549216588, 10201583.030968929)  \n",
       " 5                                         ()  \n",
       " 6                      (1386.3633788392517,)  \n",
       " 7                     (0.11307053916387526,)  \n",
       " 8                                         ()  \n",
       " 9                                         ()  \n",
       " 10                      (1.428277755538657,)  ,\n",
       " 'histdata': (array([0.0399263 , 0.        , 0.        , 0.0399263 , 0.        ,\n",
       "         0.0798526 , 0.        , 0.0798526 , 0.0399263 , 0.0399263 ,\n",
       "         0.11977889, 0.0399263 , 0.19963149, 0.47911558, 0.59889447,\n",
       "         1.31756784, 1.47727304, 1.11793635, 1.27764155, 0.63882077,\n",
       "         0.79852597, 0.63882077, 0.55896818, 0.27948409, 0.23955779,\n",
       "         0.19963149, 0.11977889, 0.0399263 , 0.0798526 , 0.        ,\n",
       "         0.        , 0.        , 0.        , 0.0399263 , 0.0399263 ,\n",
       "         0.        , 0.        , 0.        , 0.        , 0.        ,\n",
       "         0.        , 0.        , 0.        , 0.        , 0.        ,\n",
       "         0.        , 0.        , 0.        , 0.        , 0.0399263 ]),\n",
       "  array([1.7181629, 1.8119687, 1.9057745, 1.9995803, 2.0933861, 2.1871919,\n",
       "         2.2809977, 2.3748035, 2.4686093, 2.5624151, 2.6562209, 2.7500267,\n",
       "         2.8438325, 2.9376383, 3.0314441, 3.1252499, 3.2190557, 3.3128615,\n",
       "         3.4066673, 3.5004731, 3.5942789, 3.6880847, 3.7818905, 3.8756963,\n",
       "         3.9695021, 4.0633079, 4.1571137, 4.2509195, 4.3447253, 4.4385311,\n",
       "         4.5323369, 4.6261427, 4.7199485, 4.8137543, 4.9075601, 5.0013659,\n",
       "         5.0951717, 5.1889775, 5.2827833, 5.3765891, 5.4703949, 5.5642007,\n",
       "         5.6580065, 5.7518123, 5.8456181, 5.9394239, 6.0332297, 6.1270355,\n",
       "         6.2208413, 6.3146471])),\n",
       " 'size': 267,\n",
       " 'alpha': 0.05,\n",
       " 'stats': 'RSS',\n",
       " 'bins': 50,\n",
       " 'bound': 'both',\n",
       " 'distr': 'popular',\n",
       " 'method': 'parametric',\n",
       " 'multtest': 'fdr_bh',\n",
       " 'n_perm': 10000,\n",
       " 'smooth': None,\n",
       " 'weighted': True,\n",
       " 'f': 1.5}"
      ]
     },
     "execution_count": 21,
     "metadata": {},
     "output_type": "execute_result"
    }
   ],
   "source": [
    "dist.fit_transform(data)"
   ]
  },
  {
   "cell_type": "code",
   "execution_count": 22,
   "metadata": {},
   "outputs": [
    {
     "name": "stdout",
     "output_type": "stream",
     "text": [
      "         distr     score  LLE         loc          scale  \\\n",
      "0            t  0.618487  NaN    3.348062       0.278667   \n",
      "1     dweibull  0.672001  NaN    3.341027       0.304993   \n",
      "2      lognorm  1.048309  NaN   -2.480375       5.836561   \n",
      "3        gamma  1.067596  NaN   -1.212169       0.040205   \n",
      "4         beta  1.069766  NaN   -1.061634  425213.612949   \n",
      "5         norm  1.170052  NaN    3.371912       0.435101   \n",
      "6     loggamma  1.272745  NaN -117.438461      16.700276   \n",
      "7   genextreme  1.479580  NaN    3.191218       0.444018   \n",
      "8      uniform  7.159496  NaN    1.671260       4.690290   \n",
      "9        expon  7.793873  NaN    1.671260       1.700652   \n",
      "10      pareto  9.243513  NaN    0.013565       1.657695   \n",
      "\n",
      "                                         arg  \n",
      "0                       (3.314297657580009,)  \n",
      "1                       (1.063052143569637,)  \n",
      "2                     (0.07313063888869098,)  \n",
      "3                      (114.01885341075251,)  \n",
      "4   (106.37039549216588, 10201583.030968929)  \n",
      "5                                         ()  \n",
      "6                      (1386.3633788392517,)  \n",
      "7                     (0.11307053916387526,)  \n",
      "8                                         ()  \n",
      "9                                         ()  \n",
      "10                      (1.428277755538657,)  \n"
     ]
    }
   ],
   "source": [
    "print(dist.summary)"
   ]
  },
  {
   "cell_type": "code",
   "execution_count": 23,
   "metadata": {},
   "outputs": [
    {
     "name": "stdout",
     "output_type": "stream",
     "text": [
      "[distfit] >plot..\n"
     ]
    },
    {
     "data": {
      "text/plain": [
       "(<Figure size 720x576 with 1 Axes>,\n",
       " <AxesSubplot:title={'center':'\\nt\\ndf=3.3143, loc=3.34806, scale=0.278667'}, xlabel='Values', ylabel='Frequency'>)"
      ]
     },
     "execution_count": 23,
     "metadata": {},
     "output_type": "execute_result"
    },
    {
     "data": {
      "image/png": "[encoded data removed]",
      "text/plain": [
       "<Figure size 720x576 with 1 Axes>"
      ]
     },
     "metadata": {
      "needs_background": "light"
     },
     "output_type": "display_data"
    }
   ],
   "source": [
    "dist.plot()"
   ]
  },
  {
   "cell_type": "code",
   "execution_count": 24,
   "metadata": {},
   "outputs": [
    {
     "data": {
      "text/plain": [
       "<AxesSubplot:>"
      ]
     },
     "execution_count": 24,
     "metadata": {},
     "output_type": "execute_result"
    },
    {
     "data": {
      "image/png": "[encoded data removed]",
      "text/plain": [
       "<Figure size 432x288 with 1 Axes>"
      ]
     },
     "metadata": {
      "needs_background": "light"
     },
     "output_type": "display_data"
    }
   ],
   "source": [
    "dist.summary.plot()\n"
   ]
  },
  {
   "cell_type": "code",
   "execution_count": 28,
   "metadata": {},
   "outputs": [
    {
     "data": {
      "text/plain": [
       "<AxesSubplot:xlabel='distr'>"
      ]
     },
     "execution_count": 28,
     "metadata": {},
     "output_type": "execute_result"
    },
    {
     "data": {
      "image/png": "[encoded data removed]",
      "text/plain": [
       "<Figure size 432x288 with 1 Axes>"
      ]
     },
     "metadata": {},
     "output_type": "display_data"
    }
   ],
   "source": [
    "sns.set_style('whitegrid')\n",
    "df= pd.DataFrame(dist.summary)\n",
    "df.plot(x='distr', y='score', kind='line')\n"
   ]
  },
  {
   "cell_type": "code",
   "execution_count": null,
   "metadata": {},
   "outputs": [],
   "source": []
  }
 ],
 "metadata": {
  "kernelspec": {
   "display_name": "Python 3",
   "language": "python",
   "name": "python3"
  },
  "language_info": {
   "codemirror_mode": {
    "name": "ipython",
    "version": 3
   },
   "file_extension": ".py",
   "mimetype": "text/x-python",
   "name": "python",
   "nbconvert_exporter": "python",
   "pygments_lexer": "ipython3",
   "version": "3.8.6"
  }
 },
 "nbformat": 4,
 "nbformat_minor": 4
}
