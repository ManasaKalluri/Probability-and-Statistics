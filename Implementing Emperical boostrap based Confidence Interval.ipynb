{
 "cells": [
  {
   "cell_type": "markdown",
   "metadata": {},
   "source": [
    "# Empirical bootstrap based Confidence Interval"
   ]
  },
  {
   "cell_type": "markdown",
   "metadata": {},
   "source": [
    "Demonstarting CI calculation with bootstrapping on sample distribution of heights. Here task is to estimate 95% CI of Median of Heights.\n",
    "\n",
    "Heights = [180,162,158,172,168,150,171,183,165,176]\n",
    "\n"
   ]
  },
  {
   "cell_type": "code",
   "execution_count": 1,
   "metadata": {},
   "outputs": [],
   "source": [
    "import numpy as np\n",
    "import pandas as pd\n",
    "from sklearn.utils import resample\n",
    "from sklearn.metrics import accuracy_score\n",
    "from matplotlib import pyplot"
   ]
  },
  {
   "cell_type": "code",
   "execution_count": 2,
   "metadata": {},
   "outputs": [],
   "source": [
    "#Importing Dataset\n",
    "\n",
    "x = np.array([180,162,158,172,168,150,171,183,165,176])"
   ]
  },
  {
   "cell_type": "code",
   "execution_count": 3,
   "metadata": {},
   "outputs": [],
   "source": [
    "#Configuring Bootstrap\n",
    "no_of_iterations = 1000\n",
    "n_size = int(len(x)) #Taking size of random sample sets of x same as size of x as len(x) is small"
   ]
  },
  {
   "cell_type": "code",
   "execution_count": 4,
   "metadata": {},
   "outputs": [],
   "source": [
    "#Running Bootstrap following Sampling with repetition\n",
    "\n",
    "medians = list()\n",
    "for i in range(no_of_iterations):\n",
    "    s = resample(x, n_samples = n_size)\n",
    "    m = np.median(s)\n",
    "    medians.append(m)"
   ]
  },
  {
   "cell_type": "code",
   "execution_count": 5,
   "metadata": {},
   "outputs": [
    {
     "data": {
      "image/png": "[encoded data removed]",
      "text/plain": [
       "<Figure size 432x288 with 1 Axes>"
      ]
     },
     "metadata": {
      "needs_background": "light"
     },
     "output_type": "display_data"
    }
   ],
   "source": [
    "#ploting medians\n",
    "\n",
    "pyplot.hist(medians)\n",
    "pyplot.show()"
   ]
  },
  {
   "cell_type": "markdown",
   "metadata": {},
   "source": [
    "Notice that above distribution is not exactly Gaussian. Now finding 95% CI of the above generated bootstrap samples."
   ]
  },
  {
   "cell_type": "code",
   "execution_count": 6,
   "metadata": {},
   "outputs": [
    {
     "name": "stdout",
     "output_type": "stream",
     "text": [
      "95 confidence interval of Median is between 162 and 178\n"
     ]
    }
   ],
   "source": [
    "confidence = 0.95 # Since 95% CI is being calculated\n",
    "p = ((1.0 - confidence)/2.0) * 100\n",
    "lower = np.percentile(medians,p)\n",
    "\n",
    "k = (confidence + ((1.0 - confidence)/2.0)) * 100\n",
    "upper = np.percentile(medians, k)\n",
    "\n",
    "print('%.lf confidence interval of Median is between %.lf and %.lf' % (confidence*100, lower , upper))"
   ]
  },
  {
   "cell_type": "code",
   "execution_count": null,
   "metadata": {},
   "outputs": [],
   "source": []
  }
 ],
 "metadata": {
  "kernelspec": {
   "display_name": "Python 3",
   "language": "python",
   "name": "python3"
  },
  "language_info": {
   "codemirror_mode": {
    "name": "ipython",
    "version": 3
   },
   "file_extension": ".py",
   "mimetype": "text/x-python",
   "name": "python",
   "nbconvert_exporter": "python",
   "pygments_lexer": "ipython3",
   "version": "3.8.6"
  }
 },
 "nbformat": 4,
 "nbformat_minor": 4
}
